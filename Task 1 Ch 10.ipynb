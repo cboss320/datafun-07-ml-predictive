{
 "cells": [
  {
   "cell_type": "markdown",
   "id": "6ee54b8f-425a-495a-8bae-c70414de2406",
   "metadata": {},
   "source": [
    "# Task 1"
   ]
  },
  {
   "cell_type": "markdown",
   "id": "6b79b6f1-d599-4a42-b83e-8ff37c008a02",
   "metadata": {},
   "source": [
    "## Courtney Pigford 2-25-2023 "
   ]
  },
  {
   "attachments": {},
   "cell_type": "markdown",
   "id": "6f7ecf90",
   "metadata": {},
   "source": [
    "### 10.2 "
   ]
  },
  {
   "cell_type": "code",
   "execution_count": 1,
   "id": "2d21d964-75bf-4533-93db-8b79f921d579",
   "metadata": {},
   "outputs": [],
   "source": [
    "from account import Account"
   ]
  },
  {
   "cell_type": "code",
   "execution_count": 2,
   "id": "9666377b-ce21-4dfc-be2e-a94c61b9b9d9",
   "metadata": {},
   "outputs": [],
   "source": [
    "from decimal import Decimal "
   ]
  },
  {
   "cell_type": "code",
   "execution_count": 3,
   "id": "ca1e7627",
   "metadata": {},
   "outputs": [],
   "source": [
    "value = Decimal('12.34')"
   ]
  },
  {
   "cell_type": "code",
   "execution_count": 4,
   "id": "0a72e807-abee-4472-8366-1140e3ec17f6",
   "metadata": {},
   "outputs": [],
   "source": [
    "account1 = Account('John Green', Decimal('50.00'))"
   ]
  },
  {
   "cell_type": "code",
   "execution_count": 5,
   "id": "bb0f0ea5-9026-42f8-bfcf-bd345f37015e",
   "metadata": {},
   "outputs": [
    {
     "data": {
      "text/plain": [
       "'John Green'"
      ]
     },
     "execution_count": 5,
     "metadata": {},
     "output_type": "execute_result"
    }
   ],
   "source": [
    "account1.name "
   ]
  },
  {
   "cell_type": "code",
   "execution_count": 6,
   "id": "49dabdf4-0e9f-4d28-9e75-0a07cefda2a4",
   "metadata": {},
   "outputs": [
    {
     "data": {
      "text/plain": [
       "Decimal('50.00')"
      ]
     },
     "execution_count": 6,
     "metadata": {},
     "output_type": "execute_result"
    }
   ],
   "source": [
    "account1.balance"
   ]
  },
  {
   "cell_type": "code",
   "execution_count": 7,
   "id": "63577a7c",
   "metadata": {},
   "outputs": [],
   "source": [
    "account1.deposit(Decimal('25.53'))"
   ]
  },
  {
   "cell_type": "code",
   "execution_count": 8,
   "id": "be993165",
   "metadata": {},
   "outputs": [
    {
     "data": {
      "text/plain": [
       "Decimal('75.53')"
      ]
     },
     "execution_count": 8,
     "metadata": {},
     "output_type": "execute_result"
    }
   ],
   "source": [
    "account1.balance"
   ]
  },
  {
   "cell_type": "code",
   "execution_count": 9,
   "id": "dac8b5d7",
   "metadata": {},
   "outputs": [
    {
     "ename": "ValueError",
     "evalue": "amount must be positive.",
     "output_type": "error",
     "traceback": [
      "\u001b[0;31m---------------------------------------------------------------------------\u001b[0m",
      "\u001b[0;31mValueError\u001b[0m                                Traceback (most recent call last)",
      "Cell \u001b[0;32mIn[9], line 1\u001b[0m\n\u001b[0;32m----> 1\u001b[0m account1\u001b[39m.\u001b[39;49mdeposit(Decimal(\u001b[39m'\u001b[39;49m\u001b[39m-123.45\u001b[39;49m\u001b[39m'\u001b[39;49m))\n",
      "File \u001b[0;32m~/Desktop/44608-80:81/datafun-07-ml-predictive/account.py:23\u001b[0m, in \u001b[0;36mAccount.deposit\u001b[0;34m(self, amount)\u001b[0m\n\u001b[1;32m     21\u001b[0m \u001b[39m# if amount is less than 0.00, raise an exception\u001b[39;00m\n\u001b[1;32m     22\u001b[0m \u001b[39mif\u001b[39;00m amount \u001b[39m<\u001b[39m Decimal(\u001b[39m'\u001b[39m\u001b[39m0.00\u001b[39m\u001b[39m'\u001b[39m):\n\u001b[0;32m---> 23\u001b[0m     \u001b[39mraise\u001b[39;00m \u001b[39mValueError\u001b[39;00m(\u001b[39m'\u001b[39m\u001b[39mamount must be positive.\u001b[39m\u001b[39m'\u001b[39m)\n\u001b[1;32m     25\u001b[0m \u001b[39mself\u001b[39m\u001b[39m.\u001b[39mbalance \u001b[39m+\u001b[39m\u001b[39m=\u001b[39m amount\n",
      "\u001b[0;31mValueError\u001b[0m: amount must be positive."
     ]
    }
   ],
   "source": [
    "account1.deposit(Decimal('-123.45'))"
   ]
  },
  {
   "cell_type": "code",
   "execution_count": null,
   "id": "629afc3f",
   "metadata": {},
   "outputs": [],
   "source": [
    "# account.py\n",
    "\"\"\"Account class definition.\"\"\"\n",
    "from decimal import Decimal \n",
    "\n",
    "class Account: \n",
    "    \"\"\"Account class for maintaining a bank account balance.\"\"\""
   ]
  },
  {
   "attachments": {},
   "cell_type": "markdown",
   "id": "f0e2d172",
   "metadata": {},
   "source": [
    "#### 10.2.2"
   ]
  },
  {
   "cell_type": "code",
   "execution_count": null,
   "id": "6a395838",
   "metadata": {},
   "outputs": [],
   "source": [
    "def _init_(self, name, balance):\n",
    "    \"\"\"Initialize an Account object.\"\"\"\n",
    "\n",
    "    #if balance is less than 0.00, raise an exception\n",
    "    if balance < Decimal('0.00'):\n",
    "        raise ValueError('Initial balance must be >= to 0.00')\n",
    "    \n",
    "    self.name = name\n",
    "    self.balance = balance "
   ]
  },
  {
   "cell_type": "code",
   "execution_count": null,
   "id": "ec58918c",
   "metadata": {},
   "outputs": [],
   "source": [
    "def deposit(self, amount): \n",
    "    \"\"\"Deposit money to the account.\"\"\"\n",
    "    \n",
    "    #if amount is less than 0.00, raise an exception\n",
    "    if amount < Decimal('0.00'):\n",
    "        raise ValueError('amount must be positive.')\n",
    "\n",
    "    self.balance += amount "
   ]
  },
  {
   "attachments": {},
   "cell_type": "markdown",
   "id": "6bebc2bc",
   "metadata": {},
   "source": [
    "#### 10.3"
   ]
  },
  {
   "cell_type": "code",
   "execution_count": null,
   "id": "4b25c3a5",
   "metadata": {},
   "outputs": [],
   "source": [
    "from account import Account "
   ]
  },
  {
   "cell_type": "code",
   "execution_count": null,
   "id": "3694a468",
   "metadata": {},
   "outputs": [],
   "source": [
    "from decimal import Decimal "
   ]
  },
  {
   "cell_type": "code",
   "execution_count": null,
   "id": "02a7dc12",
   "metadata": {},
   "outputs": [],
   "source": [
    "account1 = Account('John Green', Decimal('50.00'))"
   ]
  },
  {
   "cell_type": "code",
   "execution_count": null,
   "id": "954e1333",
   "metadata": {},
   "outputs": [
    {
     "data": {
      "text/plain": [
       "Decimal('50.00')"
      ]
     },
     "execution_count": 4,
     "metadata": {},
     "output_type": "execute_result"
    }
   ],
   "source": [
    "account1.balance"
   ]
  },
  {
   "cell_type": "code",
   "execution_count": null,
   "id": "52894eb1",
   "metadata": {},
   "outputs": [],
   "source": [
    "account1.balance = Decimal('-1000.00')"
   ]
  },
  {
   "cell_type": "code",
   "execution_count": null,
   "id": "44f17c9d",
   "metadata": {},
   "outputs": [
    {
     "data": {
      "text/plain": [
       "Decimal('75.53')"
      ]
     },
     "execution_count": 28,
     "metadata": {},
     "output_type": "execute_result"
    }
   ],
   "source": [
    "account1.balance"
   ]
  },
  {
   "attachments": {},
   "cell_type": "markdown",
   "id": "2a9a3ea1",
   "metadata": {},
   "source": [
    "#### 10.4"
   ]
  },
  {
   "cell_type": "code",
   "execution_count": null,
   "id": "66d2408c",
   "metadata": {},
   "outputs": [],
   "source": [
    "from timewithproperties import Time"
   ]
  },
  {
   "cell_type": "code",
   "execution_count": null,
   "id": "1f63b345",
   "metadata": {},
   "outputs": [],
   "source": [
    "wake_up =Time(hour=6, minute=30)"
   ]
  },
  {
   "cell_type": "code",
   "execution_count": null,
   "id": "de5a33de",
   "metadata": {},
   "outputs": [
    {
     "data": {
      "text/plain": [
       "Time(hour=6, minute=30, second=0)"
      ]
     },
     "execution_count": 12,
     "metadata": {},
     "output_type": "execute_result"
    }
   ],
   "source": [
    "wake_up"
   ]
  },
  {
   "cell_type": "code",
   "execution_count": null,
   "id": "b7eb6121",
   "metadata": {},
   "outputs": [
    {
     "name": "stdout",
     "output_type": "stream",
     "text": [
      "6:30:00 AM\n"
     ]
    }
   ],
   "source": [
    "print(wake_up)"
   ]
  },
  {
   "cell_type": "code",
   "execution_count": null,
   "id": "3022ec79",
   "metadata": {},
   "outputs": [
    {
     "data": {
      "text/plain": [
       "6"
      ]
     },
     "execution_count": 14,
     "metadata": {},
     "output_type": "execute_result"
    }
   ],
   "source": [
    "wake_up.hour"
   ]
  },
  {
   "cell_type": "code",
   "execution_count": null,
   "id": "9e9b563d",
   "metadata": {},
   "outputs": [],
   "source": [
    "wake_up.set_time(hour=7, minute=45)"
   ]
  },
  {
   "cell_type": "code",
   "execution_count": null,
   "id": "fa562875",
   "metadata": {},
   "outputs": [
    {
     "data": {
      "text/plain": [
       "Time(hour=7, minute=45, second=0)"
      ]
     },
     "execution_count": 16,
     "metadata": {},
     "output_type": "execute_result"
    }
   ],
   "source": [
    "wake_up"
   ]
  },
  {
   "cell_type": "code",
   "execution_count": null,
   "id": "5d8a1c3f",
   "metadata": {},
   "outputs": [],
   "source": [
    "wake_up.hour = 6"
   ]
  },
  {
   "cell_type": "code",
   "execution_count": null,
   "id": "b2636572",
   "metadata": {},
   "outputs": [
    {
     "data": {
      "text/plain": [
       "Time(hour=6, minute=45, second=0)"
      ]
     },
     "execution_count": 18,
     "metadata": {},
     "output_type": "execute_result"
    }
   ],
   "source": [
    "wake_up"
   ]
  },
  {
   "cell_type": "code",
   "execution_count": null,
   "id": "81de4547",
   "metadata": {},
   "outputs": [
    {
     "ename": "ValueError",
     "evalue": "Hour (100) must be 0-23",
     "output_type": "error",
     "traceback": [
      "\u001b[0;31m---------------------------------------------------------------------------\u001b[0m",
      "\u001b[0;31mValueError\u001b[0m                                Traceback (most recent call last)",
      "Cell \u001b[0;32mIn[19], line 1\u001b[0m\n\u001b[0;32m----> 1\u001b[0m wake_up\u001b[39m.\u001b[39;49mhour \u001b[39m=\u001b[39m \u001b[39m100\u001b[39m\n",
      "File \u001b[0;32m~/Desktop/44608-80:81/datafun-07-ml-predictive/timewithproperties.py:88\u001b[0m, in \u001b[0;36mTime.hour\u001b[0;34m(self, hour)\u001b[0m\n\u001b[1;32m     86\u001b[0m \u001b[39m\u001b[39m\u001b[39m\"\"\"Set the hour.\"\"\"\u001b[39;00m\n\u001b[1;32m     87\u001b[0m \u001b[39mif\u001b[39;00m \u001b[39mnot\u001b[39;00m (\u001b[39m0\u001b[39m \u001b[39m<\u001b[39m\u001b[39m=\u001b[39m hour \u001b[39m<\u001b[39m \u001b[39m24\u001b[39m):\n\u001b[0;32m---> 88\u001b[0m     \u001b[39mraise\u001b[39;00m \u001b[39mValueError\u001b[39;00m(\u001b[39mf\u001b[39m\u001b[39m'\u001b[39m\u001b[39mHour (\u001b[39m\u001b[39m{\u001b[39;00mhour\u001b[39m}\u001b[39;00m\u001b[39m) must be 0-23\u001b[39m\u001b[39m'\u001b[39m)\n\u001b[1;32m     90\u001b[0m \u001b[39mself\u001b[39m\u001b[39m.\u001b[39m_hour \u001b[39m=\u001b[39m hour\n",
      "\u001b[0;31mValueError\u001b[0m: Hour (100) must be 0-23"
     ]
    }
   ],
   "source": [
    "wake_up.hour = 100"
   ]
  },
  {
   "attachments": {},
   "cell_type": "markdown",
   "id": "3ae08ad3",
   "metadata": {},
   "source": [
    "#### 10.5"
   ]
  },
  {
   "cell_type": "code",
   "execution_count": null,
   "id": "cb2cbe5e",
   "metadata": {},
   "outputs": [],
   "source": [
    "from private import PrivateClass"
   ]
  },
  {
   "cell_type": "code",
   "execution_count": null,
   "id": "3b7614ac",
   "metadata": {},
   "outputs": [],
   "source": [
    "my_object = PrivateClass()"
   ]
  },
  {
   "cell_type": "code",
   "execution_count": null,
   "id": "31bbceb8",
   "metadata": {},
   "outputs": [
    {
     "data": {
      "text/plain": [
       "'public'"
      ]
     },
     "execution_count": 5,
     "metadata": {},
     "output_type": "execute_result"
    }
   ],
   "source": [
    "my_object.public_data"
   ]
  },
  {
   "cell_type": "code",
   "execution_count": null,
   "id": "fd618db0",
   "metadata": {},
   "outputs": [],
   "source": []
  },
  {
   "cell_type": "code",
   "execution_count": null,
   "id": "122560bf",
   "metadata": {},
   "outputs": [
    {
     "ename": "AttributeError",
     "evalue": "'PrivateClass' object has no attribute '__private_data'",
     "output_type": "error",
     "traceback": [
      "\u001b[0;31m---------------------------------------------------------------------------\u001b[0m",
      "\u001b[0;31mAttributeError\u001b[0m                            Traceback (most recent call last)",
      "Cell \u001b[0;32mIn[6], line 1\u001b[0m\n\u001b[0;32m----> 1\u001b[0m my_object\u001b[39m.\u001b[39;49m__private_data\n",
      "\u001b[0;31mAttributeError\u001b[0m: 'PrivateClass' object has no attribute '__private_data'"
     ]
    }
   ],
   "source": [
    "my_object.__private_data"
   ]
  },
  {
   "attachments": {},
   "cell_type": "markdown",
   "id": "4cfde123",
   "metadata": {},
   "source": [
    "#### 10.6"
   ]
  },
  {
   "cell_type": "code",
   "execution_count": null,
   "id": "77a2469c",
   "metadata": {},
   "outputs": [
    {
     "name": "stdout",
     "output_type": "stream",
     "text": [
      "Ace of Hearts      2 of Hearts        3 of Hearts        4 of Hearts        \n",
      "5 of Hearts        6 of Hearts        7 of Hearts        8 of Hearts        \n",
      "9 of Hearts        10 of Hearts       Jack of Hearts     Queen of Hearts    \n",
      "King of Hearts     Ace of Diamonds    2 of Diamonds      3 of Diamonds      \n",
      "4 of Diamonds      5 of Diamonds      6 of Diamonds      7 of Diamonds      \n",
      "8 of Diamonds      9 of Diamonds      10 of Diamonds     Jack of Diamonds   \n",
      "Queen of Diamonds  King of Diamonds   Ace of Clubs       2 of Clubs         \n",
      "3 of Clubs         4 of Clubs         5 of Clubs         6 of Clubs         \n",
      "7 of Clubs         8 of Clubs         9 of Clubs         10 of Clubs        \n",
      "Jack of Clubs      Queen of Clubs     King of Clubs      Ace of Spades      \n",
      "2 of Spades        3 of Spades        4 of Spades        5 of Spades        \n",
      "6 of Spades        7 of Spades        8 of Spades        9 of Spades        \n",
      "10 of Spades       Jack of Spades     Queen of Spades    King of Spades     \n",
      "\n"
     ]
    }
   ],
   "source": [
    "from deck import DeckOfCards\n",
    "deck_of_cards = DeckOfCards()\n",
    "print(deck_of_cards)"
   ]
  },
  {
   "cell_type": "code",
   "execution_count": null,
   "id": "f564847e",
   "metadata": {},
   "outputs": [],
   "source": [
    "deck_of_cards.shuffle()"
   ]
  },
  {
   "cell_type": "code",
   "execution_count": null,
   "id": "24d72b7a",
   "metadata": {},
   "outputs": [
    {
     "name": "stdout",
     "output_type": "stream",
     "text": [
      "9 of Hearts        10 of Clubs        Queen of Hearts    Queen of Diamonds  \n",
      "Jack of Clubs      6 of Diamonds      9 of Spades        6 of Clubs         \n",
      "6 of Hearts        King of Diamonds   8 of Spades        Ace of Spades      \n",
      "8 of Diamonds      9 of Diamonds      7 of Diamonds      10 of Diamonds     \n",
      "6 of Spades        8 of Clubs         5 of Hearts        Ace of Diamonds    \n",
      "10 of Hearts       2 of Clubs         King of Hearts     Queen of Spades    \n",
      "Jack of Spades     5 of Spades        9 of Clubs         7 of Hearts        \n",
      "3 of Diamonds      2 of Diamonds      4 of Diamonds      10 of Spades       \n",
      "Queen of Clubs     Jack of Hearts     King of Spades     Ace of Hearts      \n",
      "3 of Clubs         King of Clubs      5 of Diamonds      8 of Hearts        \n",
      "4 of Clubs         2 of Hearts        7 of Spades        Ace of Clubs       \n",
      "4 of Spades        2 of Spades        Jack of Diamonds   5 of Clubs         \n",
      "3 of Hearts        4 of Hearts        7 of Clubs         3 of Spades        \n",
      "\n"
     ]
    }
   ],
   "source": [
    "print(deck_of_cards)"
   ]
  },
  {
   "cell_type": "code",
   "execution_count": null,
   "id": "ecdb89f0",
   "metadata": {},
   "outputs": [
    {
     "data": {
      "text/plain": [
       "Card(face='9', suit='Hearts')"
      ]
     },
     "execution_count": 21,
     "metadata": {},
     "output_type": "execute_result"
    }
   ],
   "source": [
    "deck_of_cards.deal_card()"
   ]
  },
  {
   "cell_type": "code",
   "execution_count": null,
   "id": "0c01adb3",
   "metadata": {},
   "outputs": [
    {
     "data": {
      "text/plain": [
       "'10 of Clubs'"
      ]
     },
     "execution_count": 22,
     "metadata": {},
     "output_type": "execute_result"
    }
   ],
   "source": [
    "card = deck_of_cards.deal_card()\n",
    "str(card)"
   ]
  },
  {
   "cell_type": "code",
   "execution_count": null,
   "id": "4b4181f7",
   "metadata": {},
   "outputs": [
    {
     "data": {
      "text/plain": [
       "'10_of_Clubs.png'"
      ]
     },
     "execution_count": 23,
     "metadata": {},
     "output_type": "execute_result"
    }
   ],
   "source": [
    "card.image_name"
   ]
  },
  {
   "attachments": {},
   "cell_type": "markdown",
   "id": "90d4db18",
   "metadata": {},
   "source": [
    "#### 10.6.4"
   ]
  },
  {
   "cell_type": "code",
   "execution_count": null,
   "id": "8c3579d0",
   "metadata": {},
   "outputs": [],
   "source": [
    "from deck import DeckOfCards"
   ]
  },
  {
   "cell_type": "code",
   "execution_count": null,
   "id": "4dfb0cfe",
   "metadata": {},
   "outputs": [],
   "source": [
    "deck_of_cards = DeckOfCards ()"
   ]
  },
  {
   "cell_type": "code",
   "execution_count": 10,
   "id": "b862a531",
   "metadata": {},
   "outputs": [
    {
     "ename": "ModuleNotFoundError",
     "evalue": "No module named 'matplotlib'",
     "output_type": "error",
     "traceback": [
      "\u001b[0;31m---------------------------------------------------------------------------\u001b[0m",
      "\u001b[0;31mModuleNotFoundError\u001b[0m                       Traceback (most recent call last)",
      "Cell \u001b[0;32mIn[10], line 1\u001b[0m\n\u001b[0;32m----> 1\u001b[0m \u001b[39mimport\u001b[39;00m \u001b[39mmatplotlib\u001b[39;00m\n",
      "\u001b[0;31mModuleNotFoundError\u001b[0m: No module named 'matplotlib'"
     ]
    }
   ],
   "source": [
    "import matplotlib"
   ]
  },
  {
   "cell_type": "code",
   "execution_count": null,
   "id": "6bd5d102",
   "metadata": {},
   "outputs": [
    {
     "ename": "SyntaxError",
     "evalue": "invalid syntax (3125978048.py, line 1)",
     "output_type": "error",
     "traceback": [
      "\u001b[0;36m  Cell \u001b[0;32mIn[14], line 1\u001b[0;36m\u001b[0m\n\u001b[0;31m    Using matplotlib backend: Qt5Agg\u001b[0m\n\u001b[0m          ^\u001b[0m\n\u001b[0;31mSyntaxError\u001b[0m\u001b[0;31m:\u001b[0m invalid syntax\n"
     ]
    }
   ],
   "source": [
    "Using matplotlib backend: Qt5Agg"
   ]
  },
  {
   "cell_type": "code",
   "execution_count": null,
   "id": "4ca153d2",
   "metadata": {},
   "outputs": [],
   "source": [
    "from pathlib import Path "
   ]
  },
  {
   "cell_type": "code",
   "execution_count": null,
   "id": "1b383d44",
   "metadata": {},
   "outputs": [],
   "source": [
    "path = Path('-').joinpath('card_images')"
   ]
  }
 ],
 "metadata": {
  "kernelspec": {
   "display_name": "Python 3",
   "language": "python",
   "name": "python3"
  },
  "language_info": {
   "codemirror_mode": {
    "name": "ipython",
    "version": 3
   },
   "file_extension": ".py",
   "mimetype": "text/x-python",
   "name": "python",
   "nbconvert_exporter": "python",
   "pygments_lexer": "ipython3",
   "version": "3.11.1"
  },
  "vscode": {
   "interpreter": {
    "hash": "1a1af0ee75eeea9e2e1ee996c87e7a2b11a0bebd85af04bb136d915cefc0abce"
   }
  }
 },
 "nbformat": 4,
 "nbformat_minor": 5
}
