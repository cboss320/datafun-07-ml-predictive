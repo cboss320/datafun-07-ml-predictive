{
 "cells": [
  {
   "cell_type": "markdown",
   "id": "6ee54b8f-425a-495a-8bae-c70414de2406",
   "metadata": {},
   "source": [
    "# Task 1"
   ]
  },
  {
   "cell_type": "markdown",
   "id": "6b79b6f1-d599-4a42-b83e-8ff37c008a02",
   "metadata": {},
   "source": [
    "## Courtney Pigford 2-25-2023 "
   ]
  },
  {
   "cell_type": "markdown",
   "id": "6f7ecf90",
   "metadata": {},
   "source": [
    "### 10.2 "
   ]
  },
  {
   "cell_type": "code",
   "execution_count": 114,
   "id": "2d21d964-75bf-4533-93db-8b79f921d579",
   "metadata": {},
   "outputs": [],
   "source": [
    "from account import Account"
   ]
  },
  {
   "cell_type": "code",
   "execution_count": 115,
   "id": "9666377b-ce21-4dfc-be2e-a94c61b9b9d9",
   "metadata": {},
   "outputs": [],
   "source": [
    "from decimal import Decimal "
   ]
  },
  {
   "cell_type": "code",
   "execution_count": 116,
   "id": "ca1e7627",
   "metadata": {},
   "outputs": [],
   "source": [
    "value = Decimal('12.34')"
   ]
  },
  {
   "cell_type": "code",
   "execution_count": 117,
   "id": "0a72e807-abee-4472-8366-1140e3ec17f6",
   "metadata": {},
   "outputs": [],
   "source": [
    "account1 = Account('John Green', Decimal('50.00'))"
   ]
  },
  {
   "cell_type": "code",
   "execution_count": 118,
   "id": "bb0f0ea5-9026-42f8-bfcf-bd345f37015e",
   "metadata": {},
   "outputs": [
    {
     "data": {
      "text/plain": [
       "'John Green'"
      ]
     },
     "execution_count": 118,
     "metadata": {},
     "output_type": "execute_result"
    }
   ],
   "source": [
    "account1.name "
   ]
  },
  {
   "cell_type": "code",
   "execution_count": 119,
   "id": "49dabdf4-0e9f-4d28-9e75-0a07cefda2a4",
   "metadata": {},
   "outputs": [
    {
     "data": {
      "text/plain": [
       "Decimal('50.00')"
      ]
     },
     "execution_count": 119,
     "metadata": {},
     "output_type": "execute_result"
    }
   ],
   "source": [
    "account1.balance"
   ]
  },
  {
   "cell_type": "code",
   "execution_count": 120,
   "id": "63577a7c",
   "metadata": {},
   "outputs": [],
   "source": [
    "account1.deposit(Decimal('25.53'))"
   ]
  },
  {
   "cell_type": "code",
   "execution_count": 121,
   "id": "be993165",
   "metadata": {},
   "outputs": [
    {
     "data": {
      "text/plain": [
       "Decimal('75.53')"
      ]
     },
     "execution_count": 121,
     "metadata": {},
     "output_type": "execute_result"
    }
   ],
   "source": [
    "account1.balance"
   ]
  },
  {
   "cell_type": "code",
   "execution_count": 122,
   "id": "dac8b5d7",
   "metadata": {},
   "outputs": [
    {
     "ename": "ValueError",
     "evalue": "amount must be positive.",
     "output_type": "error",
     "traceback": [
      "\u001b[0;31m---------------------------------------------------------------------------\u001b[0m",
      "\u001b[0;31mValueError\u001b[0m                                Traceback (most recent call last)",
      "Cell \u001b[0;32mIn[122], line 1\u001b[0m\n\u001b[0;32m----> 1\u001b[0m \u001b[43maccount1\u001b[49m\u001b[38;5;241;43m.\u001b[39;49m\u001b[43mdeposit\u001b[49m\u001b[43m(\u001b[49m\u001b[43mDecimal\u001b[49m\u001b[43m(\u001b[49m\u001b[38;5;124;43m'\u001b[39;49m\u001b[38;5;124;43m-123.45\u001b[39;49m\u001b[38;5;124;43m'\u001b[39;49m\u001b[43m)\u001b[49m\u001b[43m)\u001b[49m\n",
      "File \u001b[0;32m~/Desktop/44608-80:81/datafun-07-ml-predictive/account.py:23\u001b[0m, in \u001b[0;36mAccount.deposit\u001b[0;34m(self, amount)\u001b[0m\n\u001b[1;32m     21\u001b[0m \u001b[38;5;66;03m# if amount is less than 0.00, raise an exception\u001b[39;00m\n\u001b[1;32m     22\u001b[0m \u001b[38;5;28;01mif\u001b[39;00m amount \u001b[38;5;241m<\u001b[39m Decimal(\u001b[38;5;124m'\u001b[39m\u001b[38;5;124m0.00\u001b[39m\u001b[38;5;124m'\u001b[39m):\n\u001b[0;32m---> 23\u001b[0m     \u001b[38;5;28;01mraise\u001b[39;00m \u001b[38;5;167;01mValueError\u001b[39;00m(\u001b[38;5;124m'\u001b[39m\u001b[38;5;124mamount must be positive.\u001b[39m\u001b[38;5;124m'\u001b[39m)\n\u001b[1;32m     25\u001b[0m \u001b[38;5;28mself\u001b[39m\u001b[38;5;241m.\u001b[39mbalance \u001b[38;5;241m+\u001b[39m\u001b[38;5;241m=\u001b[39m amount\n",
      "\u001b[0;31mValueError\u001b[0m: amount must be positive."
     ]
    }
   ],
   "source": [
    "account1.deposit(Decimal('-123.45'))"
   ]
  },
  {
   "cell_type": "code",
   "execution_count": 123,
   "id": "629afc3f",
   "metadata": {},
   "outputs": [],
   "source": [
    "# account.py\n",
    "\"\"\"Account class definition.\"\"\"\n",
    "from decimal import Decimal \n",
    "\n",
    "class Account: \n",
    "    \"\"\"Account class for maintaining a bank account balance.\"\"\""
   ]
  },
  {
   "cell_type": "markdown",
   "id": "f0e2d172",
   "metadata": {},
   "source": [
    "#### 10.2.2"
   ]
  },
  {
   "cell_type": "code",
   "execution_count": 124,
   "id": "6a395838",
   "metadata": {},
   "outputs": [],
   "source": [
    "def _init_(self, name, balance):\n",
    "    \"\"\"Initialize an Account object.\"\"\"\n",
    "\n",
    "    #if balance is less than 0.00, raise an exception\n",
    "    if balance < Decimal('0.00'):\n",
    "        raise ValueError('Initial balance must be >= to 0.00')\n",
    "    \n",
    "    self.name = name\n",
    "    self.balance = balance "
   ]
  },
  {
   "cell_type": "code",
   "execution_count": 125,
   "id": "ec58918c",
   "metadata": {},
   "outputs": [],
   "source": [
    "def deposit(self, amount): \n",
    "    \"\"\"Deposit money to the account.\"\"\"\n",
    "    \n",
    "    #if amount is less than 0.00, raise an exception\n",
    "    if amount < Decimal('0.00'):\n",
    "        raise ValueError('amount must be positive.')\n",
    "\n",
    "    self.balance += amount "
   ]
  },
  {
   "cell_type": "markdown",
   "id": "6bebc2bc",
   "metadata": {},
   "source": [
    "#### 10.3"
   ]
  },
  {
   "cell_type": "code",
   "execution_count": 126,
   "id": "4b25c3a5",
   "metadata": {},
   "outputs": [],
   "source": [
    "from account import Account "
   ]
  },
  {
   "cell_type": "code",
   "execution_count": 127,
   "id": "3694a468",
   "metadata": {},
   "outputs": [],
   "source": [
    "from decimal import Decimal "
   ]
  },
  {
   "cell_type": "code",
   "execution_count": 128,
   "id": "02a7dc12",
   "metadata": {},
   "outputs": [],
   "source": [
    "account1 = Account('John Green', Decimal('50.00'))"
   ]
  },
  {
   "cell_type": "code",
   "execution_count": 129,
   "id": "954e1333",
   "metadata": {},
   "outputs": [
    {
     "data": {
      "text/plain": [
       "Decimal('50.00')"
      ]
     },
     "execution_count": 129,
     "metadata": {},
     "output_type": "execute_result"
    }
   ],
   "source": [
    "account1.balance"
   ]
  },
  {
   "cell_type": "code",
   "execution_count": 130,
   "id": "52894eb1",
   "metadata": {},
   "outputs": [],
   "source": [
    "account1.balance = Decimal('-1000.00')"
   ]
  },
  {
   "cell_type": "code",
   "execution_count": 131,
   "id": "44f17c9d",
   "metadata": {},
   "outputs": [
    {
     "data": {
      "text/plain": [
       "Decimal('-1000.00')"
      ]
     },
     "execution_count": 131,
     "metadata": {},
     "output_type": "execute_result"
    }
   ],
   "source": [
    "account1.balance"
   ]
  },
  {
   "cell_type": "markdown",
   "id": "2a9a3ea1",
   "metadata": {},
   "source": [
    "#### 10.4"
   ]
  },
  {
   "cell_type": "code",
   "execution_count": 132,
   "id": "66d2408c",
   "metadata": {},
   "outputs": [],
   "source": [
    "from timewithproperties import Time"
   ]
  },
  {
   "cell_type": "code",
   "execution_count": 133,
   "id": "1f63b345",
   "metadata": {},
   "outputs": [],
   "source": [
    "wake_up =Time(hour=6, minute=30)"
   ]
  },
  {
   "cell_type": "code",
   "execution_count": 134,
   "id": "de5a33de",
   "metadata": {},
   "outputs": [
    {
     "data": {
      "text/plain": [
       "Time(hour=6, minute=30, second=0)"
      ]
     },
     "execution_count": 134,
     "metadata": {},
     "output_type": "execute_result"
    }
   ],
   "source": [
    "wake_up"
   ]
  },
  {
   "cell_type": "code",
   "execution_count": 135,
   "id": "b7eb6121",
   "metadata": {},
   "outputs": [
    {
     "name": "stdout",
     "output_type": "stream",
     "text": [
      "6:30:00 AM\n"
     ]
    }
   ],
   "source": [
    "print(wake_up)"
   ]
  },
  {
   "cell_type": "code",
   "execution_count": 136,
   "id": "3022ec79",
   "metadata": {},
   "outputs": [
    {
     "data": {
      "text/plain": [
       "6"
      ]
     },
     "execution_count": 136,
     "metadata": {},
     "output_type": "execute_result"
    }
   ],
   "source": [
    "wake_up.hour"
   ]
  },
  {
   "cell_type": "code",
   "execution_count": 137,
   "id": "9e9b563d",
   "metadata": {},
   "outputs": [],
   "source": [
    "wake_up.set_time(hour=7, minute=45)"
   ]
  },
  {
   "cell_type": "code",
   "execution_count": 138,
   "id": "fa562875",
   "metadata": {},
   "outputs": [
    {
     "data": {
      "text/plain": [
       "Time(hour=7, minute=45, second=0)"
      ]
     },
     "execution_count": 138,
     "metadata": {},
     "output_type": "execute_result"
    }
   ],
   "source": [
    "wake_up"
   ]
  },
  {
   "cell_type": "code",
   "execution_count": 139,
   "id": "5d8a1c3f",
   "metadata": {},
   "outputs": [],
   "source": [
    "wake_up.hour = 6"
   ]
  },
  {
   "cell_type": "code",
   "execution_count": 140,
   "id": "b2636572",
   "metadata": {},
   "outputs": [
    {
     "data": {
      "text/plain": [
       "Time(hour=6, minute=45, second=0)"
      ]
     },
     "execution_count": 140,
     "metadata": {},
     "output_type": "execute_result"
    }
   ],
   "source": [
    "wake_up"
   ]
  },
  {
   "cell_type": "code",
   "execution_count": 141,
   "id": "81de4547",
   "metadata": {},
   "outputs": [
    {
     "ename": "ValueError",
     "evalue": "Hour (100) must be 0-23",
     "output_type": "error",
     "traceback": [
      "\u001b[0;31m---------------------------------------------------------------------------\u001b[0m",
      "\u001b[0;31mValueError\u001b[0m                                Traceback (most recent call last)",
      "Cell \u001b[0;32mIn[141], line 1\u001b[0m\n\u001b[0;32m----> 1\u001b[0m wake_up\u001b[38;5;241m.\u001b[39mhour \u001b[38;5;241m=\u001b[39m \u001b[38;5;241m100\u001b[39m\n",
      "File \u001b[0;32m~/Desktop/44608-80:81/datafun-07-ml-predictive/timewithproperties.py:88\u001b[0m, in \u001b[0;36mTime.hour\u001b[0;34m(self, hour)\u001b[0m\n\u001b[1;32m     86\u001b[0m \u001b[38;5;124;03m\"\"\"Set the hour.\"\"\"\u001b[39;00m\n\u001b[1;32m     87\u001b[0m \u001b[38;5;28;01mif\u001b[39;00m \u001b[38;5;129;01mnot\u001b[39;00m (\u001b[38;5;241m0\u001b[39m \u001b[38;5;241m<\u001b[39m\u001b[38;5;241m=\u001b[39m hour \u001b[38;5;241m<\u001b[39m \u001b[38;5;241m24\u001b[39m):\n\u001b[0;32m---> 88\u001b[0m     \u001b[38;5;28;01mraise\u001b[39;00m \u001b[38;5;167;01mValueError\u001b[39;00m(\u001b[38;5;124mf\u001b[39m\u001b[38;5;124m'\u001b[39m\u001b[38;5;124mHour (\u001b[39m\u001b[38;5;132;01m{\u001b[39;00mhour\u001b[38;5;132;01m}\u001b[39;00m\u001b[38;5;124m) must be 0-23\u001b[39m\u001b[38;5;124m'\u001b[39m)\n\u001b[1;32m     90\u001b[0m \u001b[38;5;28mself\u001b[39m\u001b[38;5;241m.\u001b[39m_hour \u001b[38;5;241m=\u001b[39m hour\n",
      "\u001b[0;31mValueError\u001b[0m: Hour (100) must be 0-23"
     ]
    }
   ],
   "source": [
    "wake_up.hour = 100"
   ]
  },
  {
   "cell_type": "markdown",
   "id": "3ae08ad3",
   "metadata": {},
   "source": [
    "#### 10.5"
   ]
  },
  {
   "cell_type": "code",
   "execution_count": 142,
   "id": "cb2cbe5e",
   "metadata": {
    "tags": []
   },
   "outputs": [],
   "source": [
    "from private import PrivateClass"
   ]
  },
  {
   "cell_type": "code",
   "execution_count": 143,
   "id": "3b7614ac",
   "metadata": {},
   "outputs": [],
   "source": [
    "my_object = PrivateClass()"
   ]
  },
  {
   "cell_type": "code",
   "execution_count": 144,
   "id": "31bbceb8",
   "metadata": {},
   "outputs": [
    {
     "data": {
      "text/plain": [
       "'public'"
      ]
     },
     "execution_count": 144,
     "metadata": {},
     "output_type": "execute_result"
    }
   ],
   "source": [
    "my_object.public_data"
   ]
  },
  {
   "cell_type": "code",
   "execution_count": 145,
   "id": "122560bf",
   "metadata": {},
   "outputs": [
    {
     "ename": "AttributeError",
     "evalue": "'PrivateClass' object has no attribute '_private_data'",
     "output_type": "error",
     "traceback": [
      "\u001b[0;31m---------------------------------------------------------------------------\u001b[0m",
      "\u001b[0;31mAttributeError\u001b[0m                            Traceback (most recent call last)",
      "Cell \u001b[0;32mIn[145], line 1\u001b[0m\n\u001b[0;32m----> 1\u001b[0m \u001b[43mmy_object\u001b[49m\u001b[38;5;241;43m.\u001b[39;49m\u001b[43m_private_data\u001b[49m\n",
      "\u001b[0;31mAttributeError\u001b[0m: 'PrivateClass' object has no attribute '_private_data'"
     ]
    }
   ],
   "source": [
    "my_object._private_data"
   ]
  },
  {
   "cell_type": "markdown",
   "id": "4cfde123",
   "metadata": {},
   "source": [
    "#### 10.6"
   ]
  },
  {
   "cell_type": "code",
   "execution_count": 146,
   "id": "77a2469c",
   "metadata": {},
   "outputs": [
    {
     "name": "stdout",
     "output_type": "stream",
     "text": [
      "Ace of Hearts      2 of Hearts        3 of Hearts        4 of Hearts        \n",
      "5 of Hearts        6 of Hearts        7 of Hearts        8 of Hearts        \n",
      "9 of Hearts        10 of Hearts       Jack of Hearts     Queen of Hearts    \n",
      "King of Hearts     Ace of Diamonds    2 of Diamonds      3 of Diamonds      \n",
      "4 of Diamonds      5 of Diamonds      6 of Diamonds      7 of Diamonds      \n",
      "8 of Diamonds      9 of Diamonds      10 of Diamonds     Jack of Diamonds   \n",
      "Queen of Diamonds  King of Diamonds   Ace of Clubs       2 of Clubs         \n",
      "3 of Clubs         4 of Clubs         5 of Clubs         6 of Clubs         \n",
      "7 of Clubs         8 of Clubs         9 of Clubs         10 of Clubs        \n",
      "Jack of Clubs      Queen of Clubs     King of Clubs      Ace of Spades      \n",
      "2 of Spades        3 of Spades        4 of Spades        5 of Spades        \n",
      "6 of Spades        7 of Spades        8 of Spades        9 of Spades        \n",
      "10 of Spades       Jack of Spades     Queen of Spades    King of Spades     \n",
      "\n"
     ]
    }
   ],
   "source": [
    "from deck import DeckOfCards\n",
    "deck_of_cards = DeckOfCards()\n",
    "print(deck_of_cards)"
   ]
  },
  {
   "cell_type": "code",
   "execution_count": 147,
   "id": "f564847e",
   "metadata": {},
   "outputs": [],
   "source": [
    "deck_of_cards.shuffle()"
   ]
  },
  {
   "cell_type": "code",
   "execution_count": 148,
   "id": "24d72b7a",
   "metadata": {},
   "outputs": [
    {
     "name": "stdout",
     "output_type": "stream",
     "text": [
      "2 of Clubs         Ace of Hearts      5 of Hearts        3 of Spades        \n",
      "4 of Diamonds      Ace of Spades      10 of Diamonds     6 of Clubs         \n",
      "King of Spades     7 of Clubs         4 of Clubs         Jack of Diamonds   \n",
      "4 of Hearts        Jack of Hearts     9 of Diamonds      3 of Hearts        \n",
      "Queen of Hearts    5 of Diamonds      Queen of Clubs     9 of Hearts        \n",
      "6 of Diamonds      7 of Spades        8 of Spades        4 of Spades        \n",
      "King of Hearts     8 of Diamonds      7 of Hearts        Ace of Clubs       \n",
      "2 of Diamonds      10 of Hearts       8 of Hearts        Jack of Spades     \n",
      "10 of Clubs        2 of Hearts        King of Clubs      5 of Spades        \n",
      "3 of Clubs         2 of Spades        9 of Spades        6 of Spades        \n",
      "Queen of Spades    Queen of Diamonds  Jack of Clubs      7 of Diamonds      \n",
      "King of Diamonds   9 of Clubs         Ace of Diamonds    10 of Spades       \n",
      "3 of Diamonds      6 of Hearts        8 of Clubs         5 of Clubs         \n",
      "\n"
     ]
    }
   ],
   "source": [
    "print(deck_of_cards)"
   ]
  },
  {
   "cell_type": "code",
   "execution_count": 149,
   "id": "ecdb89f0",
   "metadata": {},
   "outputs": [
    {
     "data": {
      "text/plain": [
       "Card(face='2', suit='Clubs')"
      ]
     },
     "execution_count": 149,
     "metadata": {},
     "output_type": "execute_result"
    }
   ],
   "source": [
    "deck_of_cards.deal_card()"
   ]
  },
  {
   "cell_type": "code",
   "execution_count": 150,
   "id": "0c01adb3",
   "metadata": {},
   "outputs": [
    {
     "data": {
      "text/plain": [
       "'Ace of Hearts'"
      ]
     },
     "execution_count": 150,
     "metadata": {},
     "output_type": "execute_result"
    }
   ],
   "source": [
    "card = deck_of_cards.deal_card()\n",
    "str(card)"
   ]
  },
  {
   "cell_type": "code",
   "execution_count": 151,
   "id": "4b4181f7",
   "metadata": {},
   "outputs": [
    {
     "data": {
      "text/plain": [
       "'Ace_of_Hearts.png'"
      ]
     },
     "execution_count": 151,
     "metadata": {},
     "output_type": "execute_result"
    }
   ],
   "source": [
    "card.image_name"
   ]
  },
  {
   "cell_type": "markdown",
   "id": "90d4db18",
   "metadata": {},
   "source": [
    "#### 10.6.4"
   ]
  },
  {
   "cell_type": "code",
   "execution_count": 152,
   "id": "8c3579d0",
   "metadata": {},
   "outputs": [],
   "source": [
    "from deck import DeckOfCards"
   ]
  },
  {
   "cell_type": "code",
   "execution_count": 153,
   "id": "4dfb0cfe",
   "metadata": {},
   "outputs": [],
   "source": [
    "deck_of_cards = DeckOfCards()"
   ]
  },
  {
   "cell_type": "code",
   "execution_count": 164,
   "id": "71b216f4",
   "metadata": {},
   "outputs": [
    {
     "name": "stdout",
     "output_type": "stream",
     "text": [
      "Using matplotlib backend: <object object at 0x7f93e482baf0>\n"
     ]
    }
   ],
   "source": [
    "%matplotlib"
   ]
  },
  {
   "cell_type": "code",
   "execution_count": 170,
   "id": "4ca153d2",
   "metadata": {},
   "outputs": [],
   "source": [
    "from pathlib import Path "
   ]
  },
  {
   "cell_type": "code",
   "execution_count": 171,
   "id": "1b383d44",
   "metadata": {},
   "outputs": [],
   "source": [
    "path = Path('.').joinpath('card_images')"
   ]
  },
  {
   "cell_type": "code",
   "execution_count": 172,
   "id": "f97d6b9e-b1e9-47a9-b9bf-06a6dd2f50b7",
   "metadata": {},
   "outputs": [],
   "source": [
    "import matplotlib.pyplot as plt "
   ]
  },
  {
   "cell_type": "code",
   "execution_count": 173,
   "id": "f0dc6624-21b9-4909-8bf1-8e1fbd492d5c",
   "metadata": {},
   "outputs": [],
   "source": [
    "import matplotlib.image as mpimg"
   ]
  },
  {
   "cell_type": "code",
   "execution_count": 174,
   "id": "9b1ae6c8-4b84-409e-bdad-d866f81c432a",
   "metadata": {},
   "outputs": [],
   "source": [
    "figure, axes_list = plt.subplots(nrows=4, ncols=13)"
   ]
  },
  {
   "cell_type": "code",
   "execution_count": 175,
   "id": "83491617-054a-4ce9-b6e6-17a53b388666",
   "metadata": {},
   "outputs": [
    {
     "ename": "AttributeError",
     "evalue": "'NoneType' object has no attribute 'image_name'",
     "output_type": "error",
     "traceback": [
      "\u001b[0;31m---------------------------------------------------------------------------\u001b[0m",
      "\u001b[0;31mAttributeError\u001b[0m                            Traceback (most recent call last)",
      "Cell \u001b[0;32mIn[175], line 4\u001b[0m\n\u001b[1;32m      2\u001b[0m axes\u001b[38;5;241m.\u001b[39mget_xaxis()\u001b[38;5;241m.\u001b[39mset_visible(\u001b[38;5;28;01mFalse\u001b[39;00m)\n\u001b[1;32m      3\u001b[0m axes\u001b[38;5;241m.\u001b[39mget_yaxis()\u001b[38;5;241m.\u001b[39mset_visible(\u001b[38;5;28;01mFalse\u001b[39;00m)\n\u001b[0;32m----> 4\u001b[0m image_name \u001b[38;5;241m=\u001b[39m \u001b[43mdeck_of_cards\u001b[49m\u001b[38;5;241;43m.\u001b[39;49m\u001b[43mdeal_card\u001b[49m\u001b[43m(\u001b[49m\u001b[43m)\u001b[49m\u001b[38;5;241;43m.\u001b[39;49m\u001b[43mimage_name\u001b[49m\n\u001b[1;32m      5\u001b[0m img \u001b[38;5;241m=\u001b[39m mpimg\u001b[38;5;241m.\u001b[39mimread(\u001b[38;5;28mstr\u001b[39m(path\u001b[38;5;241m.\u001b[39mjoinpath(image_name)\u001b[38;5;241m.\u001b[39mresolve()))\n\u001b[1;32m      6\u001b[0m axes\u001b[38;5;241m.\u001b[39mimshow(img)\n",
      "\u001b[0;31mAttributeError\u001b[0m: 'NoneType' object has no attribute 'image_name'"
     ]
    }
   ],
   "source": [
    "for axes in axes_list.ravel():\n",
    "    axes.get_xaxis().set_visible(False)\n",
    "    axes.get_yaxis().set_visible(False)\n",
    "    image_name = deck_of_cards.deal_card().image_name\n",
    "    img = mpimg.imread(str(path.joinpath(image_name).resolve()))\n",
    "    axes.imshow(img)"
   ]
  },
  {
   "cell_type": "code",
   "execution_count": 176,
   "id": "a7b12b06-eff2-4572-836d-b96c862423e2",
   "metadata": {},
   "outputs": [
    {
     "name": "stderr",
     "output_type": "stream",
     "text": [
      "/var/folders/48/6w_jrgjs73j9jkmfqz1zzd7m0000gq/T/ipykernel_2000/1210551376.py:1: UserWarning: Tight layout not applied. tight_layout cannot make axes width small enough to accommodate all axes decorations\n",
      "  figure.tight_layout()\n"
     ]
    }
   ],
   "source": [
    "figure.tight_layout()"
   ]
  },
  {
   "cell_type": "code",
   "execution_count": 177,
   "id": "bbc0f246-8e66-4b22-87a2-92006cdeae42",
   "metadata": {},
   "outputs": [],
   "source": [
    "deck_of_cards.shuffle()"
   ]
  },
  {
   "cell_type": "code",
   "execution_count": 179,
   "id": "aa172486-fe86-4a81-99e2-15a35789eeae",
   "metadata": {},
   "outputs": [
    {
     "ename": "AttributeError",
     "evalue": "'NoneType' object has no attribute 'image_name'",
     "output_type": "error",
     "traceback": [
      "\u001b[0;31m---------------------------------------------------------------------------\u001b[0m",
      "\u001b[0;31mAttributeError\u001b[0m                            Traceback (most recent call last)",
      "Cell \u001b[0;32mIn[179], line 4\u001b[0m\n\u001b[1;32m      2\u001b[0m axes\u001b[38;5;241m.\u001b[39mget_xaxis()\u001b[38;5;241m.\u001b[39mset_visible(\u001b[38;5;28;01mFalse\u001b[39;00m)\n\u001b[1;32m      3\u001b[0m axes\u001b[38;5;241m.\u001b[39mget_yaxis()\u001b[38;5;241m.\u001b[39mset_visible(\u001b[38;5;28;01mFalse\u001b[39;00m)\n\u001b[0;32m----> 4\u001b[0m image_name \u001b[38;5;241m=\u001b[39m \u001b[43mdeck_of_cards\u001b[49m\u001b[38;5;241;43m.\u001b[39;49m\u001b[43mdeal_card\u001b[49m\u001b[43m(\u001b[49m\u001b[43m)\u001b[49m\u001b[38;5;241;43m.\u001b[39;49m\u001b[43mimage_name\u001b[49m\n\u001b[1;32m      5\u001b[0m img \u001b[38;5;241m=\u001b[39m mpimg\u001b[38;5;241m.\u001b[39mimread(\u001b[38;5;28mstr\u001b[39m(path\u001b[38;5;241m.\u001b[39mjoinpath(image_name)\u001b[38;5;241m.\u001b[39mresolve()))\n\u001b[1;32m      6\u001b[0m axes\u001b[38;5;241m.\u001b[39mimshow(img)\n",
      "\u001b[0;31mAttributeError\u001b[0m: 'NoneType' object has no attribute 'image_name'"
     ]
    }
   ],
   "source": [
    "for axes in axes_list.ravel():\n",
    "    axes.get_xaxis().set_visible(False)\n",
    "    axes.get_yaxis().set_visible(False)\n",
    "    image_name = deck_of_cards.deal_card().image_name\n",
    "    img = mpimg.imread(str(path.joinpath(image_name).resolve()))\n",
    "    axes.imshow(img)"
   ]
  },
  {
   "cell_type": "markdown",
   "id": "8da4e7e0-8c4f-44c2-870d-6cc445abc4ab",
   "metadata": {},
   "source": [
    "#### 10.8"
   ]
  },
  {
   "cell_type": "code",
   "execution_count": 183,
   "id": "fea2173d-f95b-490c-949f-d9eaf22b0a3b",
   "metadata": {},
   "outputs": [],
   "source": [
    "from commissionemployee import CommissionEmployee"
   ]
  },
  {
   "cell_type": "code",
   "execution_count": 184,
   "id": "01f35f1e-decb-4bb6-bdcf-8eaf1a9cd765",
   "metadata": {},
   "outputs": [],
   "source": [
    "from decimal import Decimal "
   ]
  },
  {
   "cell_type": "code",
   "execution_count": 185,
   "id": "422a4b35-35bc-4096-9d39-a095605259bd",
   "metadata": {},
   "outputs": [],
   "source": [
    "c = CommissionEmployee('Sue', 'Jones', '333-33-3333', \n",
    "    Decimal('10000.00'), Decimal('0.06'))"
   ]
  },
  {
   "cell_type": "code",
   "execution_count": 186,
   "id": "669359f9-5757-444a-a951-b77b8452251a",
   "metadata": {},
   "outputs": [
    {
     "data": {
      "text/plain": [
       "CommissionEmployee: Sue Jones\n",
       "social security number: 333-33-3333\n",
       "gross sales: 10000.00\n",
       "commission rate: 0.06"
      ]
     },
     "execution_count": 186,
     "metadata": {},
     "output_type": "execute_result"
    }
   ],
   "source": [
    "c"
   ]
  },
  {
   "cell_type": "code",
   "execution_count": 187,
   "id": "77d5defe-5fb8-42bd-99fb-6a0bf66240ed",
   "metadata": {},
   "outputs": [
    {
     "name": "stdout",
     "output_type": "stream",
     "text": [
      "600.00\n"
     ]
    }
   ],
   "source": [
    "print(f'{c.earnings():,.2f}')"
   ]
  },
  {
   "cell_type": "code",
   "execution_count": 191,
   "id": "458173f0-c472-4ebd-ba26-1ae7d1b33bde",
   "metadata": {},
   "outputs": [],
   "source": [
    "c.gross_sales = Decimal('20000.00')"
   ]
  },
  {
   "cell_type": "code",
   "execution_count": 192,
   "id": "66c8e480-ecbd-45fd-a1ff-b0610b0005b2",
   "metadata": {},
   "outputs": [],
   "source": [
    "c.commission_rate = Decimal('0.1')"
   ]
  },
  {
   "cell_type": "code",
   "execution_count": 193,
   "id": "9cb0a6a1-507e-403a-8764-23bce6dc3ef6",
   "metadata": {},
   "outputs": [
    {
     "name": "stdout",
     "output_type": "stream",
     "text": [
      "2,000.00\n"
     ]
    }
   ],
   "source": [
    "print(f'{c.earnings():,.2f}')"
   ]
  },
  {
   "cell_type": "code",
   "execution_count": 194,
   "id": "ad03d8ac-2ec6-478b-bfb0-427ec5cf8350",
   "metadata": {},
   "outputs": [],
   "source": [
    "from salariedcommissionemployee import SalariedCommissionEmployee"
   ]
  },
  {
   "cell_type": "code",
   "execution_count": 198,
   "id": "81a23426-2baa-4b9c-8ddf-6e51130a1762",
   "metadata": {},
   "outputs": [],
   "source": [
    "s = SalariedCommissionEmployee('Bob', 'Lewis', '444-44-4444', \n",
    "        Decimal('5000.00'), Decimal('0.04'), Decimal('300.00'))"
   ]
  },
  {
   "cell_type": "code",
   "execution_count": 200,
   "id": "6a35bf2c-1b03-4f24-9c0c-c005b2d4f3f0",
   "metadata": {},
   "outputs": [
    {
     "name": "stdout",
     "output_type": "stream",
     "text": [
      "Bob Lewis 444-44-4444 5000.00 0.04 300.00\n"
     ]
    }
   ],
   "source": [
    "print(s.first_name, s.last_name, s.ssn, s.gross_sales,\n",
    "      s.commission_rate, s.base_salary)"
   ]
  },
  {
   "cell_type": "code",
   "execution_count": 202,
   "id": "d27c63b2-cc57-4da6-ab10-a61240ce7839",
   "metadata": {},
   "outputs": [
    {
     "name": "stdout",
     "output_type": "stream",
     "text": [
      "500.00\n"
     ]
    }
   ],
   "source": [
    "print(f'{s.earnings():,.2f}')"
   ]
  },
  {
   "cell_type": "code",
   "execution_count": 204,
   "id": "a1bfdc38-a47a-485d-890c-35269d146214",
   "metadata": {},
   "outputs": [],
   "source": [
    "s.gross_sales = Decimal('10000.00')"
   ]
  },
  {
   "cell_type": "code",
   "execution_count": 206,
   "id": "0b39dce4-eddf-46c1-8ad0-45c11b9fca65",
   "metadata": {},
   "outputs": [],
   "source": [
    "s.commission_rate = Decimal('0.05')"
   ]
  },
  {
   "cell_type": "code",
   "execution_count": 208,
   "id": "61dca5e1-58c9-4195-8551-f97b620fb22a",
   "metadata": {},
   "outputs": [],
   "source": [
    "s.base_salary = Decimal('1000.00')"
   ]
  },
  {
   "cell_type": "code",
   "execution_count": 205,
   "id": "8bdc2be6-74f9-4fde-bbbb-bfab1064e822",
   "metadata": {},
   "outputs": [
    {
     "name": "stdout",
     "output_type": "stream",
     "text": [
      "SalariedCommissionEmployee: Bob Lewis\n",
      "social security number: 444-44-4444\n",
      "gross sales: 10000.00\n",
      "commission rate: 0.04\n",
      "base salary: 300.00\n"
     ]
    }
   ],
   "source": [
    "print(s)"
   ]
  },
  {
   "cell_type": "code",
   "execution_count": 209,
   "id": "759f6449-08f1-4493-babd-cc623922dac6",
   "metadata": {},
   "outputs": [
    {
     "name": "stdout",
     "output_type": "stream",
     "text": [
      "1,500.00\n"
     ]
    }
   ],
   "source": [
    "print(f'{s.earnings():,.2f}')"
   ]
  },
  {
   "cell_type": "code",
   "execution_count": 210,
   "id": "c572235e-86c7-4744-bf8e-afa526954caa",
   "metadata": {},
   "outputs": [
    {
     "data": {
      "text/plain": [
       "True"
      ]
     },
     "execution_count": 210,
     "metadata": {},
     "output_type": "execute_result"
    }
   ],
   "source": [
    "issubclass(SalariedCommissionEmployee, CommissionEmployee)"
   ]
  },
  {
   "cell_type": "code",
   "execution_count": 211,
   "id": "a3d2d984-347d-4a64-8f60-b210a185071a",
   "metadata": {},
   "outputs": [
    {
     "data": {
      "text/plain": [
       "True"
      ]
     },
     "execution_count": 211,
     "metadata": {},
     "output_type": "execute_result"
    }
   ],
   "source": [
    "isinstance(s, CommissionEmployee)"
   ]
  },
  {
   "cell_type": "code",
   "execution_count": 212,
   "id": "d6d90d40-e85e-4662-9fce-339441cdae0c",
   "metadata": {},
   "outputs": [
    {
     "data": {
      "text/plain": [
       "True"
      ]
     },
     "execution_count": 212,
     "metadata": {},
     "output_type": "execute_result"
    }
   ],
   "source": [
    "isinstance(s, SalariedCommissionEmployee)"
   ]
  },
  {
   "cell_type": "code",
   "execution_count": 215,
   "id": "19aa1202-bed1-416a-b667-b201388a1491",
   "metadata": {},
   "outputs": [],
   "source": [
    "employees = [c, s]"
   ]
  },
  {
   "cell_type": "code",
   "execution_count": 216,
   "id": "b316b9cd-352b-4bd4-a18e-2de655a53b5b",
   "metadata": {},
   "outputs": [
    {
     "name": "stdout",
     "output_type": "stream",
     "text": [
      "CommissionEmployee: Sue Jones\n",
      "social security number: 333-33-3333\n",
      "gross sales: 20000.00\n",
      "commission rate: 0.10\n",
      "2,000.00\n",
      "\n",
      "SalariedCommissionEmployee: Bob Lewis\n",
      "social security number: 444-44-4444\n",
      "gross sales: 10000.00\n",
      "commission rate: 0.05\n",
      "base salary: 1000.00\n",
      "1,500.00\n",
      "\n"
     ]
    }
   ],
   "source": [
    "for employee in employees: \n",
    "    print(employee)\n",
    "    print(f'{employee.earnings():,.2f}\\n')"
   ]
  },
  {
   "cell_type": "markdown",
   "id": "2b2f96b4-c91a-4c9c-a0cf-b9f5b94539ea",
   "metadata": {},
   "source": [
    "#### 10.9"
   ]
  },
  {
   "cell_type": "code",
   "execution_count": 217,
   "id": "1d4f41e2-f6b8-4cdf-adc5-e0903019919c",
   "metadata": {},
   "outputs": [],
   "source": [
    "class WellPaidDuck: \n",
    "    def _repr_(self):\n",
    "        return 'I am a well-paid duck'\n",
    "    def earnings(self): \n",
    "        return Decimal('1_000_000.00')"
   ]
  },
  {
   "cell_type": "code",
   "execution_count": 219,
   "id": "0bf17f6b-c414-4eaa-ac93-0764b5429b57",
   "metadata": {},
   "outputs": [],
   "source": [
    "from decimal import Decimal "
   ]
  },
  {
   "cell_type": "code",
   "execution_count": 220,
   "id": "8c0ebddb-59f7-44b9-90ee-fd6705161f38",
   "metadata": {},
   "outputs": [],
   "source": [
    "from commissionemployee import CommissionEmployee"
   ]
  },
  {
   "cell_type": "code",
   "execution_count": 221,
   "id": "f7ec36f1-430a-4380-b8fa-023810e93de0",
   "metadata": {},
   "outputs": [],
   "source": [
    "from salariedcommissionemployee import SalariedCommissionEmployee"
   ]
  },
  {
   "cell_type": "code",
   "execution_count": 222,
   "id": "4949efb8-f789-43ab-9a41-71d0dd91f695",
   "metadata": {},
   "outputs": [],
   "source": [
    "c = CommissionEmployee('Sue', 'Jones', '333-33-3333', \n",
    "                       Decimal('10000.00'), Decimal('0.06'))"
   ]
  },
  {
   "cell_type": "code",
   "execution_count": 224,
   "id": "90f83d33-2e12-42fa-9fda-f10f2365ba42",
   "metadata": {},
   "outputs": [],
   "source": [
    "s = SalariedCommissionEmployee('Bob', 'Lewis', '444-44-4444',\n",
    "                               Decimal('5000.00'), Decimal('0.04'), Decimal('300.00'))\n"
   ]
  },
  {
   "cell_type": "code",
   "execution_count": 225,
   "id": "7e451a5d-a5c7-46b5-aad1-b93a65ec7d58",
   "metadata": {},
   "outputs": [],
   "source": [
    "d = WellPaidDuck()"
   ]
  },
  {
   "cell_type": "code",
   "execution_count": 226,
   "id": "78c55cbd-3f08-47f8-acc0-fd7f76cc0c15",
   "metadata": {},
   "outputs": [],
   "source": [
    "employees = [c, s, d]"
   ]
  },
  {
   "cell_type": "code",
   "execution_count": 227,
   "id": "f0a39990-e52e-4c03-8c0b-b70e5aacf605",
   "metadata": {},
   "outputs": [
    {
     "name": "stdout",
     "output_type": "stream",
     "text": [
      "CommissionEmployee: Sue Jones\n",
      "social security number: 333-33-3333\n",
      "gross sales: 10000.00\n",
      "commission rate: 0.06\n",
      "600.00\n",
      "\n",
      "SalariedCommissionEmployee: Bob Lewis\n",
      "social security number: 444-44-4444\n",
      "gross sales: 5000.00\n",
      "commission rate: 0.04\n",
      "base salary: 300.00\n",
      "500.00\n",
      "\n",
      "<__main__.WellPaidDuck object at 0x7f93e74a7c10>\n",
      "1,000,000.00\n",
      "\n"
     ]
    }
   ],
   "source": [
    "for employee in employees: \n",
    "    print(employee)\n",
    "    print(f'{employee.earnings():,.2f}\\n')"
   ]
  },
  {
   "cell_type": "markdown",
   "id": "6ad6b7e0-2594-4f2c-a3f6-c69fe792cf1a",
   "metadata": {},
   "source": [
    "#### 10.10"
   ]
  },
  {
   "cell_type": "code",
   "execution_count": 228,
   "id": "6841cd55-f3d4-48f5-b9af-bb98603542d0",
   "metadata": {},
   "outputs": [],
   "source": [
    "from complexnumber import Complex "
   ]
  },
  {
   "cell_type": "code",
   "execution_count": 229,
   "id": "60beb399-68f7-4b9d-953d-e25405c307e3",
   "metadata": {},
   "outputs": [],
   "source": [
    "x = Complex(real=2, imaginary=4)"
   ]
  },
  {
   "cell_type": "code",
   "execution_count": 230,
   "id": "f8524ded-a96b-4154-915d-10881a5b4e1a",
   "metadata": {},
   "outputs": [
    {
     "data": {
      "text/plain": [
       "(2 + 4i)"
      ]
     },
     "execution_count": 230,
     "metadata": {},
     "output_type": "execute_result"
    }
   ],
   "source": [
    "x"
   ]
  },
  {
   "cell_type": "code",
   "execution_count": 231,
   "id": "d68d28c4-c1e9-4ece-bc26-b6ad045ff393",
   "metadata": {},
   "outputs": [],
   "source": [
    "y = Complex(real=5, imaginary=-1)"
   ]
  },
  {
   "cell_type": "code",
   "execution_count": 232,
   "id": "bc955cb0-7fcf-4f79-8851-a5e72d87c438",
   "metadata": {},
   "outputs": [
    {
     "data": {
      "text/plain": [
       "(5 - 1i)"
      ]
     },
     "execution_count": 232,
     "metadata": {},
     "output_type": "execute_result"
    }
   ],
   "source": [
    "y"
   ]
  },
  {
   "cell_type": "code",
   "execution_count": 233,
   "id": "782f36ac-9c77-408e-9131-eaa6e5776241",
   "metadata": {},
   "outputs": [
    {
     "data": {
      "text/plain": [
       "(7 + 3i)"
      ]
     },
     "execution_count": 233,
     "metadata": {},
     "output_type": "execute_result"
    }
   ],
   "source": [
    "x + y "
   ]
  },
  {
   "cell_type": "code",
   "execution_count": 234,
   "id": "24d56ec6-0da3-4804-8ac7-a44f94798222",
   "metadata": {},
   "outputs": [
    {
     "data": {
      "text/plain": [
       "(2 + 4i)"
      ]
     },
     "execution_count": 234,
     "metadata": {},
     "output_type": "execute_result"
    }
   ],
   "source": [
    "x"
   ]
  },
  {
   "cell_type": "code",
   "execution_count": 235,
   "id": "bd3bcbc3-f334-4e62-96da-d387b4eedd79",
   "metadata": {},
   "outputs": [
    {
     "data": {
      "text/plain": [
       "(5 - 1i)"
      ]
     },
     "execution_count": 235,
     "metadata": {},
     "output_type": "execute_result"
    }
   ],
   "source": [
    "y"
   ]
  },
  {
   "cell_type": "code",
   "execution_count": 236,
   "id": "ed0e66d5-937e-49a5-b571-1179525f433a",
   "metadata": {},
   "outputs": [],
   "source": [
    "x += y "
   ]
  },
  {
   "cell_type": "code",
   "execution_count": 237,
   "id": "7ada6077-2345-4fab-8289-aac97109fd48",
   "metadata": {},
   "outputs": [
    {
     "data": {
      "text/plain": [
       "(7 + 3i)"
      ]
     },
     "execution_count": 237,
     "metadata": {},
     "output_type": "execute_result"
    }
   ],
   "source": [
    "x"
   ]
  },
  {
   "cell_type": "code",
   "execution_count": 238,
   "id": "a9e8bb75-1b3d-49f3-a91c-5c619a12aecd",
   "metadata": {},
   "outputs": [
    {
     "data": {
      "text/plain": [
       "(5 - 1i)"
      ]
     },
     "execution_count": 238,
     "metadata": {},
     "output_type": "execute_result"
    }
   ],
   "source": [
    "y"
   ]
  },
  {
   "cell_type": "markdown",
   "id": "672f5265-2476-49ae-be94-a819a849cccf",
   "metadata": {},
   "source": [
    "#### 10.12"
   ]
  },
  {
   "cell_type": "code",
   "execution_count": 239,
   "id": "d2cf0c28-6bb1-4e82-93dc-861e7063d476",
   "metadata": {},
   "outputs": [],
   "source": [
    "from collections import namedtuple"
   ]
  },
  {
   "cell_type": "code",
   "execution_count": 240,
   "id": "bfb8ab11-f354-4895-9243-e3047eabd91b",
   "metadata": {},
   "outputs": [],
   "source": [
    "Card = namedtuple('Card', ['face', 'suit'])"
   ]
  },
  {
   "cell_type": "code",
   "execution_count": 243,
   "id": "c0c6c89e-9c1f-4c83-a533-4583ae036a9c",
   "metadata": {},
   "outputs": [],
   "source": [
    "card = Card(face='Ace', suit='Spades')"
   ]
  },
  {
   "cell_type": "code",
   "execution_count": 244,
   "id": "160b4e5d-b7fd-4c8d-a8e3-7525931305df",
   "metadata": {},
   "outputs": [
    {
     "data": {
      "text/plain": [
       "'Ace'"
      ]
     },
     "execution_count": 244,
     "metadata": {},
     "output_type": "execute_result"
    }
   ],
   "source": [
    "card.face"
   ]
  },
  {
   "cell_type": "code",
   "execution_count": 245,
   "id": "1c13824d-26fe-4d31-8977-6fab0f5dd17d",
   "metadata": {},
   "outputs": [
    {
     "data": {
      "text/plain": [
       "'Spades'"
      ]
     },
     "execution_count": 245,
     "metadata": {},
     "output_type": "execute_result"
    }
   ],
   "source": [
    "card.suit"
   ]
  },
  {
   "cell_type": "code",
   "execution_count": 246,
   "id": "3278252d-fe1a-41cd-aff2-bdeb6f96677e",
   "metadata": {},
   "outputs": [
    {
     "data": {
      "text/plain": [
       "Card(face='Ace', suit='Spades')"
      ]
     },
     "execution_count": 246,
     "metadata": {},
     "output_type": "execute_result"
    }
   ],
   "source": [
    "card"
   ]
  },
  {
   "cell_type": "code",
   "execution_count": 247,
   "id": "65d6e6ab-2f74-4528-8938-60c7e78ee1b4",
   "metadata": {},
   "outputs": [],
   "source": [
    "values = ['Queen', 'Hearts']"
   ]
  },
  {
   "cell_type": "code",
   "execution_count": 248,
   "id": "a836258d-ba7b-4a46-bc26-9bbff9984db1",
   "metadata": {},
   "outputs": [],
   "source": [
    " card = Card._make(values)"
   ]
  },
  {
   "cell_type": "code",
   "execution_count": 249,
   "id": "b5b21ab9-2934-4e3a-a856-ff80b73d9bf7",
   "metadata": {},
   "outputs": [
    {
     "data": {
      "text/plain": [
       "Card(face='Queen', suit='Hearts')"
      ]
     },
     "execution_count": 249,
     "metadata": {},
     "output_type": "execute_result"
    }
   ],
   "source": [
    "card"
   ]
  },
  {
   "cell_type": "code",
   "execution_count": 251,
   "id": "43a9bccb-5f8b-4101-90f6-302d56778d57",
   "metadata": {},
   "outputs": [
    {
     "data": {
      "text/plain": [
       "{'face': 'Queen', 'suit': 'Hearts'}"
      ]
     },
     "execution_count": 251,
     "metadata": {},
     "output_type": "execute_result"
    }
   ],
   "source": [
    "card._asdict()"
   ]
  },
  {
   "cell_type": "markdown",
   "id": "7648f9cf-1d9c-4f38-8008-b28799d5da85",
   "metadata": {},
   "source": [
    "#### 10.13"
   ]
  },
  {
   "cell_type": "code",
   "execution_count": 252,
   "id": "4b062f52-ebf6-4fb5-92fd-f5c687a55619",
   "metadata": {},
   "outputs": [],
   "source": [
    "from dataclasses import dataclass"
   ]
  },
  {
   "cell_type": "code",
   "execution_count": 255,
   "id": "071ef9ea-1112-46ff-87c6-28c407f79942",
   "metadata": {},
   "outputs": [],
   "source": [
    "@dataclass\n",
    "class Demo: \n",
    "    x  # attempting to create a data attribute x "
   ]
  },
  {
   "cell_type": "code",
   "execution_count": 256,
   "id": "518b4cab-34bb-499e-92c0-fc4a4bbb3e6e",
   "metadata": {},
   "outputs": [],
   "source": [
    "from carddataclass import Card"
   ]
  },
  {
   "cell_type": "code",
   "execution_count": 260,
   "id": "4a5e7a12-3887-4ed2-979c-b577a8fd4c9a",
   "metadata": {},
   "outputs": [],
   "source": [
    "c1 = Card(Card.FACES[0], Card.SUITS[3])"
   ]
  },
  {
   "cell_type": "code",
   "execution_count": 261,
   "id": "4e4611f8-a41b-4214-a86d-17a06c06b339",
   "metadata": {},
   "outputs": [
    {
     "data": {
      "text/plain": [
       "Card(face='Ace', suit='Spades')"
      ]
     },
     "execution_count": 261,
     "metadata": {},
     "output_type": "execute_result"
    }
   ],
   "source": [
    "c1"
   ]
  },
  {
   "cell_type": "code",
   "execution_count": 262,
   "id": "c318405a-6a22-4a23-b712-b5e703440e32",
   "metadata": {},
   "outputs": [
    {
     "name": "stdout",
     "output_type": "stream",
     "text": [
      "Ace of Spades\n"
     ]
    }
   ],
   "source": [
    "print(c1)"
   ]
  },
  {
   "cell_type": "code",
   "execution_count": 263,
   "id": "0d59318c-2add-45dd-b58b-26a9f4e63311",
   "metadata": {},
   "outputs": [
    {
     "data": {
      "text/plain": [
       "'Ace'"
      ]
     },
     "execution_count": 263,
     "metadata": {},
     "output_type": "execute_result"
    }
   ],
   "source": [
    "c1.face"
   ]
  },
  {
   "cell_type": "code",
   "execution_count": 264,
   "id": "aa70bcfe-a541-437c-8011-4140f15febd6",
   "metadata": {},
   "outputs": [
    {
     "data": {
      "text/plain": [
       "'Spades'"
      ]
     },
     "execution_count": 264,
     "metadata": {},
     "output_type": "execute_result"
    }
   ],
   "source": [
    "c1.suit"
   ]
  },
  {
   "cell_type": "code",
   "execution_count": 265,
   "id": "bed989f3-d338-46da-911e-78757a8cc416",
   "metadata": {},
   "outputs": [
    {
     "data": {
      "text/plain": [
       "'Ace_of_Spades.png'"
      ]
     },
     "execution_count": 265,
     "metadata": {},
     "output_type": "execute_result"
    }
   ],
   "source": [
    "c1.image_name"
   ]
  },
  {
   "cell_type": "code",
   "execution_count": 266,
   "id": "18b0bff2-4190-40a7-adad-1aaa7a737f6b",
   "metadata": {},
   "outputs": [],
   "source": [
    "c2 = Card(Card.FACES[0], Card.SUITS[3])"
   ]
  },
  {
   "cell_type": "code",
   "execution_count": 267,
   "id": "4a3b543e-9aaa-4466-935c-018462caae1f",
   "metadata": {},
   "outputs": [
    {
     "data": {
      "text/plain": [
       "Card(face='Ace', suit='Spades')"
      ]
     },
     "execution_count": 267,
     "metadata": {},
     "output_type": "execute_result"
    }
   ],
   "source": [
    "c2"
   ]
  },
  {
   "cell_type": "code",
   "execution_count": 268,
   "id": "7d041352-efb1-4c34-a04d-82ef7741493a",
   "metadata": {},
   "outputs": [],
   "source": [
    "c3 = Card(Card.FACES[0], Card.SUITS[0])"
   ]
  },
  {
   "cell_type": "code",
   "execution_count": 269,
   "id": "6651aee3-35c2-4b1f-b242-ad1af4c17d90",
   "metadata": {},
   "outputs": [
    {
     "data": {
      "text/plain": [
       "Card(face='Ace', suit='Hearts')"
      ]
     },
     "execution_count": 269,
     "metadata": {},
     "output_type": "execute_result"
    }
   ],
   "source": [
    "c3"
   ]
  },
  {
   "cell_type": "code",
   "execution_count": 270,
   "id": "399e5f5b-55d5-4815-a841-a16871a7e796",
   "metadata": {},
   "outputs": [
    {
     "data": {
      "text/plain": [
       "True"
      ]
     },
     "execution_count": 270,
     "metadata": {},
     "output_type": "execute_result"
    }
   ],
   "source": [
    "c1 == c2 "
   ]
  },
  {
   "cell_type": "code",
   "execution_count": 271,
   "id": "f4e625c5-26a8-4a53-85e9-fafbca5aeb34",
   "metadata": {},
   "outputs": [
    {
     "data": {
      "text/plain": [
       "False"
      ]
     },
     "execution_count": 271,
     "metadata": {},
     "output_type": "execute_result"
    }
   ],
   "source": [
    "c1 == c3"
   ]
  },
  {
   "cell_type": "code",
   "execution_count": 272,
   "id": "2842757a-e4c3-4756-9912-6344293d888d",
   "metadata": {},
   "outputs": [
    {
     "data": {
      "text/plain": [
       "True"
      ]
     },
     "execution_count": 272,
     "metadata": {},
     "output_type": "execute_result"
    }
   ],
   "source": [
    "c1 != c3"
   ]
  },
  {
   "cell_type": "code",
   "execution_count": 273,
   "id": "e61728ba-1747-4a4d-ab02-6dcd7659d4f4",
   "metadata": {},
   "outputs": [],
   "source": [
    "from deck2 import DeckOfCards "
   ]
  },
  {
   "cell_type": "code",
   "execution_count": 274,
   "id": "5f55fa52-abed-4dd4-a4af-0e1a54d5a254",
   "metadata": {},
   "outputs": [],
   "source": [
    "deck_of_cards = DeckOfCards()"
   ]
  },
  {
   "cell_type": "code",
   "execution_count": 275,
   "id": "b430ea71-d28c-4837-8e0f-97b5d6fe61b5",
   "metadata": {},
   "outputs": [
    {
     "name": "stdout",
     "output_type": "stream",
     "text": [
      "Ace of Hearts      2 of Hearts        3 of Hearts        4 of Hearts        \n",
      "5 of Hearts        6 of Hearts        7 of Hearts        8 of Hearts        \n",
      "9 of Hearts        10 of Hearts       Jack of Hearts     Queen of Hearts    \n",
      "King of Hearts     Ace of Diamonds    2 of Diamonds      3 of Diamonds      \n",
      "4 of Diamonds      5 of Diamonds      6 of Diamonds      7 of Diamonds      \n",
      "8 of Diamonds      9 of Diamonds      10 of Diamonds     Jack of Diamonds   \n",
      "Queen of Diamonds  King of Diamonds   Ace of Clubs       2 of Clubs         \n",
      "3 of Clubs         4 of Clubs         5 of Clubs         6 of Clubs         \n",
      "7 of Clubs         8 of Clubs         9 of Clubs         10 of Clubs        \n",
      "Jack of Clubs      Queen of Clubs     King of Clubs      Ace of Spades      \n",
      "2 of Spades        3 of Spades        4 of Spades        5 of Spades        \n",
      "6 of Spades        7 of Spades        8 of Spades        9 of Spades        \n",
      "10 of Spades       Jack of Spades     Queen of Spades    King of Spades     \n",
      "\n"
     ]
    }
   ],
   "source": [
    "print(deck_of_cards)"
   ]
  },
  {
   "cell_type": "markdown",
   "id": "9c8e7b7f-45b7-424a-9499-1b35c96af9f3",
   "metadata": {},
   "source": [
    "#### 10.14"
   ]
  },
  {
   "cell_type": "code",
   "execution_count": 277,
   "id": "adeea9bb-f747-4756-8f89-4bbceeacc663",
   "metadata": {},
   "outputs": [
    {
     "ename": "SyntaxError",
     "evalue": "invalid syntax (236263623.py, line 1)",
     "output_type": "error",
     "traceback": [
      "\u001b[0;36m  Cell \u001b[0;32mIn[277], line 1\u001b[0;36m\u001b[0m\n\u001b[0;31m    Trying:\u001b[0m\n\u001b[0m            ^\u001b[0m\n\u001b[0;31mSyntaxError\u001b[0m\u001b[0;31m:\u001b[0m invalid syntax\n"
     ]
    }
   ],
   "source": [
    "Trying: \n",
    "    account1 = Account('John Green', Decimal('50.00'))\n",
    "Expecting nothing \n",
    "ok \n",
    "Trying: \n",
    "    account1.name\n",
    "Expecting: \n",
    "    'John Green'\n",
    "ok \n",
    "Trying: \n",
    "    account1.balance\n",
    "Expecting: \n",
    "    Decimal('50.00')\n",
    "ok\n",
    "Trying: \n",
    "    account2 = Account('John Green', Decimal('-50.00'))\n",
    "Expecting: \n",
    "    Traceback (most recent call last): \n",
    "        ...\n",
    "    ValueError: Initial balance must be >= to 0.00.\n",
    "ok\n",
    "3 items had no tests: \n",
    "    _main_\n",
    "    _main_.Account\n",
    "    _main_.Account.deposit\n",
    "1 items passed all tests: \n",
    "    4 tests in _main_.Account._init_\n",
    "4 tests in 4 items. \n",
    "4 passed and 0 failed. \n",
    "Test passed. "
   ]
  },
  {
   "cell_type": "markdown",
   "id": "b8ac3611-ccd4-4c00-9765-5a387f648856",
   "metadata": {},
   "source": [
    "#### 10.15"
   ]
  },
  {
   "cell_type": "code",
   "execution_count": 280,
   "id": "7f30a4a6-7ffc-46a8-9cfb-0e8a82f8dc34",
   "metadata": {},
   "outputs": [],
   "source": [
    "z = 'global z'"
   ]
  },
  {
   "cell_type": "code",
   "execution_count": 278,
   "id": "7dc6a65f-3988-4ea1-baf5-6f655e464862",
   "metadata": {},
   "outputs": [],
   "source": [
    "def print_variables(): \n",
    "    y = 'local y in print_variables'\n",
    "    print(y)\n",
    "    print(z)"
   ]
  },
  {
   "cell_type": "code",
   "execution_count": 281,
   "id": "42b11c37-68bf-48ae-bf53-5555de0a4ef6",
   "metadata": {},
   "outputs": [
    {
     "name": "stdout",
     "output_type": "stream",
     "text": [
      "local y in print_variables\n",
      "global z\n"
     ]
    }
   ],
   "source": [
    "print_variables()"
   ]
  },
  {
   "cell_type": "code",
   "execution_count": 282,
   "id": "2a1ade94-d70f-49fe-bb81-48157eb1cb5e",
   "metadata": {},
   "outputs": [
    {
     "data": {
      "text/plain": [
       "(5 - 1i)"
      ]
     },
     "execution_count": 282,
     "metadata": {},
     "output_type": "execute_result"
    }
   ],
   "source": [
    "y"
   ]
  },
  {
   "cell_type": "code",
   "execution_count": 283,
   "id": "6d3f3a60-6941-4d31-af90-432f8f5447b4",
   "metadata": {},
   "outputs": [
    {
     "data": {
      "text/plain": [
       "'global z'"
      ]
     },
     "execution_count": 283,
     "metadata": {},
     "output_type": "execute_result"
    }
   ],
   "source": [
    "z"
   ]
  },
  {
   "cell_type": "markdown",
   "id": "c1d73c6b-9522-4035-9d9e-55923e3dfb23",
   "metadata": {},
   "source": [
    "#### 10.16"
   ]
  },
  {
   "cell_type": "code",
   "execution_count": 287,
   "id": "49538d07-81cb-436f-8b63-df9188cf8fe9",
   "metadata": {},
   "outputs": [],
   "source": [
    "c = lambda f: 5/9*(f - 32)"
   ]
  },
  {
   "cell_type": "code",
   "execution_count": 288,
   "id": "36153282-6039-4154-9c48-834fc971ba15",
   "metadata": {},
   "outputs": [],
   "source": [
    "temps = [(f, c(f)) for f in range(0, 101, 10)]"
   ]
  },
  {
   "cell_type": "code",
   "execution_count": 289,
   "id": "7ee144d2-924d-4bbc-8f1b-b0f27fbb532c",
   "metadata": {},
   "outputs": [],
   "source": [
    "import pandas as pd "
   ]
  },
  {
   "cell_type": "code",
   "execution_count": 290,
   "id": "ba8734e7-050e-4ffe-aeac-9897fa022bd8",
   "metadata": {},
   "outputs": [],
   "source": [
    "temps_df = pd.DataFrame(temps, columns=['Fahrenheit', 'Celsius'])"
   ]
  },
  {
   "cell_type": "code",
   "execution_count": 291,
   "id": "a806a7ef-06b8-480a-bb42-61ea5b0293ba",
   "metadata": {},
   "outputs": [],
   "source": [
    "axes = temps_df.plot(x='Fahrenheit', y='Celsius', style='.-')"
   ]
  },
  {
   "cell_type": "code",
   "execution_count": 293,
   "id": "c60e46e1-3119-4fc3-9780-8543a41ec675",
   "metadata": {},
   "outputs": [],
   "source": [
    "y_label = axes.set_ylabel('Celsius')"
   ]
  },
  {
   "cell_type": "code",
   "execution_count": 294,
   "id": "4eb19cc1-f288-4529-80fa-d05017b7e15c",
   "metadata": {},
   "outputs": [],
   "source": [
    "nyc = pd.read_csv('ave_hi_nyc_jan_1895-2018.csv')"
   ]
  },
  {
   "cell_type": "code",
   "execution_count": 295,
   "id": "6d7eb5ad-6b8b-4cf7-8323-5be9ac7f68bd",
   "metadata": {},
   "outputs": [
    {
     "data": {
      "text/html": [
       "<div>\n",
       "<style scoped>\n",
       "    .dataframe tbody tr th:only-of-type {\n",
       "        vertical-align: middle;\n",
       "    }\n",
       "\n",
       "    .dataframe tbody tr th {\n",
       "        vertical-align: top;\n",
       "    }\n",
       "\n",
       "    .dataframe thead th {\n",
       "        text-align: right;\n",
       "    }\n",
       "</style>\n",
       "<table border=\"1\" class=\"dataframe\">\n",
       "  <thead>\n",
       "    <tr style=\"text-align: right;\">\n",
       "      <th></th>\n",
       "      <th>Date</th>\n",
       "      <th>Value</th>\n",
       "      <th>Anomaly</th>\n",
       "    </tr>\n",
       "  </thead>\n",
       "  <tbody>\n",
       "    <tr>\n",
       "      <th>0</th>\n",
       "      <td>189501</td>\n",
       "      <td>34.2</td>\n",
       "      <td>-3.2</td>\n",
       "    </tr>\n",
       "    <tr>\n",
       "      <th>1</th>\n",
       "      <td>189601</td>\n",
       "      <td>34.7</td>\n",
       "      <td>-2.7</td>\n",
       "    </tr>\n",
       "    <tr>\n",
       "      <th>2</th>\n",
       "      <td>189701</td>\n",
       "      <td>35.5</td>\n",
       "      <td>-1.9</td>\n",
       "    </tr>\n",
       "    <tr>\n",
       "      <th>3</th>\n",
       "      <td>189801</td>\n",
       "      <td>39.6</td>\n",
       "      <td>2.2</td>\n",
       "    </tr>\n",
       "    <tr>\n",
       "      <th>4</th>\n",
       "      <td>189901</td>\n",
       "      <td>36.4</td>\n",
       "      <td>-1.0</td>\n",
       "    </tr>\n",
       "  </tbody>\n",
       "</table>\n",
       "</div>"
      ],
      "text/plain": [
       "     Date  Value  Anomaly\n",
       "0  189501   34.2     -3.2\n",
       "1  189601   34.7     -2.7\n",
       "2  189701   35.5     -1.9\n",
       "3  189801   39.6      2.2\n",
       "4  189901   36.4     -1.0"
      ]
     },
     "execution_count": 295,
     "metadata": {},
     "output_type": "execute_result"
    }
   ],
   "source": [
    "nyc.head()"
   ]
  },
  {
   "cell_type": "code",
   "execution_count": 296,
   "id": "7355b91f-036f-4f1d-abad-3afd277a4dd9",
   "metadata": {},
   "outputs": [
    {
     "data": {
      "text/html": [
       "<div>\n",
       "<style scoped>\n",
       "    .dataframe tbody tr th:only-of-type {\n",
       "        vertical-align: middle;\n",
       "    }\n",
       "\n",
       "    .dataframe tbody tr th {\n",
       "        vertical-align: top;\n",
       "    }\n",
       "\n",
       "    .dataframe thead th {\n",
       "        text-align: right;\n",
       "    }\n",
       "</style>\n",
       "<table border=\"1\" class=\"dataframe\">\n",
       "  <thead>\n",
       "    <tr style=\"text-align: right;\">\n",
       "      <th></th>\n",
       "      <th>Date</th>\n",
       "      <th>Value</th>\n",
       "      <th>Anomaly</th>\n",
       "    </tr>\n",
       "  </thead>\n",
       "  <tbody>\n",
       "    <tr>\n",
       "      <th>119</th>\n",
       "      <td>201401</td>\n",
       "      <td>35.5</td>\n",
       "      <td>-1.9</td>\n",
       "    </tr>\n",
       "    <tr>\n",
       "      <th>120</th>\n",
       "      <td>201501</td>\n",
       "      <td>36.1</td>\n",
       "      <td>-1.3</td>\n",
       "    </tr>\n",
       "    <tr>\n",
       "      <th>121</th>\n",
       "      <td>201601</td>\n",
       "      <td>40.8</td>\n",
       "      <td>3.4</td>\n",
       "    </tr>\n",
       "    <tr>\n",
       "      <th>122</th>\n",
       "      <td>201701</td>\n",
       "      <td>42.8</td>\n",
       "      <td>5.4</td>\n",
       "    </tr>\n",
       "    <tr>\n",
       "      <th>123</th>\n",
       "      <td>201801</td>\n",
       "      <td>38.7</td>\n",
       "      <td>1.3</td>\n",
       "    </tr>\n",
       "  </tbody>\n",
       "</table>\n",
       "</div>"
      ],
      "text/plain": [
       "       Date  Value  Anomaly\n",
       "119  201401   35.5     -1.9\n",
       "120  201501   36.1     -1.3\n",
       "121  201601   40.8      3.4\n",
       "122  201701   42.8      5.4\n",
       "123  201801   38.7      1.3"
      ]
     },
     "execution_count": 296,
     "metadata": {},
     "output_type": "execute_result"
    }
   ],
   "source": [
    "nyc.tail()"
   ]
  },
  {
   "cell_type": "code",
   "execution_count": 297,
   "id": "50dc1bb3-5a63-4ba6-9d9c-ee804bf11e69",
   "metadata": {},
   "outputs": [],
   "source": [
    "nyc.columns = ['Date', 'Temperature', 'Anomaly']"
   ]
  },
  {
   "cell_type": "code",
   "execution_count": 298,
   "id": "c13ea93a-d667-46e0-8a90-06153839de8d",
   "metadata": {},
   "outputs": [
    {
     "data": {
      "text/html": [
       "<div>\n",
       "<style scoped>\n",
       "    .dataframe tbody tr th:only-of-type {\n",
       "        vertical-align: middle;\n",
       "    }\n",
       "\n",
       "    .dataframe tbody tr th {\n",
       "        vertical-align: top;\n",
       "    }\n",
       "\n",
       "    .dataframe thead th {\n",
       "        text-align: right;\n",
       "    }\n",
       "</style>\n",
       "<table border=\"1\" class=\"dataframe\">\n",
       "  <thead>\n",
       "    <tr style=\"text-align: right;\">\n",
       "      <th></th>\n",
       "      <th>Date</th>\n",
       "      <th>Temperature</th>\n",
       "      <th>Anomaly</th>\n",
       "    </tr>\n",
       "  </thead>\n",
       "  <tbody>\n",
       "    <tr>\n",
       "      <th>0</th>\n",
       "      <td>189501</td>\n",
       "      <td>34.2</td>\n",
       "      <td>-3.2</td>\n",
       "    </tr>\n",
       "    <tr>\n",
       "      <th>1</th>\n",
       "      <td>189601</td>\n",
       "      <td>34.7</td>\n",
       "      <td>-2.7</td>\n",
       "    </tr>\n",
       "    <tr>\n",
       "      <th>2</th>\n",
       "      <td>189701</td>\n",
       "      <td>35.5</td>\n",
       "      <td>-1.9</td>\n",
       "    </tr>\n",
       "  </tbody>\n",
       "</table>\n",
       "</div>"
      ],
      "text/plain": [
       "     Date  Temperature  Anomaly\n",
       "0  189501         34.2     -3.2\n",
       "1  189601         34.7     -2.7\n",
       "2  189701         35.5     -1.9"
      ]
     },
     "execution_count": 298,
     "metadata": {},
     "output_type": "execute_result"
    }
   ],
   "source": [
    "nyc.head(3)"
   ]
  },
  {
   "cell_type": "code",
   "execution_count": 299,
   "id": "cdae3d76-fe77-4c53-a03d-4361f79b13c6",
   "metadata": {},
   "outputs": [
    {
     "data": {
      "text/plain": [
       "dtype('int64')"
      ]
     },
     "execution_count": 299,
     "metadata": {},
     "output_type": "execute_result"
    }
   ],
   "source": [
    "nyc.Date.dtype"
   ]
  },
  {
   "cell_type": "code",
   "execution_count": 300,
   "id": "10753369-7397-41d0-acb7-db8408a797ae",
   "metadata": {},
   "outputs": [],
   "source": [
    "nyc.Date = nyc.Date.floordiv(100)"
   ]
  },
  {
   "cell_type": "code",
   "execution_count": 301,
   "id": "b41eada2-91fe-496d-977b-5cda69f67cf1",
   "metadata": {},
   "outputs": [
    {
     "data": {
      "text/html": [
       "<div>\n",
       "<style scoped>\n",
       "    .dataframe tbody tr th:only-of-type {\n",
       "        vertical-align: middle;\n",
       "    }\n",
       "\n",
       "    .dataframe tbody tr th {\n",
       "        vertical-align: top;\n",
       "    }\n",
       "\n",
       "    .dataframe thead th {\n",
       "        text-align: right;\n",
       "    }\n",
       "</style>\n",
       "<table border=\"1\" class=\"dataframe\">\n",
       "  <thead>\n",
       "    <tr style=\"text-align: right;\">\n",
       "      <th></th>\n",
       "      <th>Date</th>\n",
       "      <th>Temperature</th>\n",
       "      <th>Anomaly</th>\n",
       "    </tr>\n",
       "  </thead>\n",
       "  <tbody>\n",
       "    <tr>\n",
       "      <th>0</th>\n",
       "      <td>1895</td>\n",
       "      <td>34.2</td>\n",
       "      <td>-3.2</td>\n",
       "    </tr>\n",
       "    <tr>\n",
       "      <th>1</th>\n",
       "      <td>1896</td>\n",
       "      <td>34.7</td>\n",
       "      <td>-2.7</td>\n",
       "    </tr>\n",
       "    <tr>\n",
       "      <th>2</th>\n",
       "      <td>1897</td>\n",
       "      <td>35.5</td>\n",
       "      <td>-1.9</td>\n",
       "    </tr>\n",
       "  </tbody>\n",
       "</table>\n",
       "</div>"
      ],
      "text/plain": [
       "   Date  Temperature  Anomaly\n",
       "0  1895         34.2     -3.2\n",
       "1  1896         34.7     -2.7\n",
       "2  1897         35.5     -1.9"
      ]
     },
     "execution_count": 301,
     "metadata": {},
     "output_type": "execute_result"
    }
   ],
   "source": [
    "nyc.head(3)"
   ]
  },
  {
   "cell_type": "code",
   "execution_count": 306,
   "id": "94b543fb-69f0-4ff2-861c-89fd61dda51e",
   "metadata": {},
   "outputs": [
    {
     "data": {
      "text/plain": [
       "count    124.000000\n",
       "mean      37.595161\n",
       "std        4.539848\n",
       "min       26.100000\n",
       "25%       34.575000\n",
       "50%       37.600000\n",
       "75%       40.600000\n",
       "max       47.600000\n",
       "Name: Temperature, dtype: float64"
      ]
     },
     "execution_count": 306,
     "metadata": {},
     "output_type": "execute_result"
    }
   ],
   "source": [
    "nyc.Temperature.describe()"
   ]
  },
  {
   "cell_type": "code",
   "execution_count": null,
   "id": "0be763ac-adbf-42d9-9001-8ee43dd5caae",
   "metadata": {},
   "outputs": [],
   "source": []
  }
 ],
 "metadata": {
  "kernelspec": {
   "display_name": "Python 3",
   "language": "python",
   "name": "python3"
  },
  "language_info": {
   "codemirror_mode": {
    "name": "ipython",
    "version": 3
   },
   "file_extension": ".py",
   "mimetype": "text/x-python",
   "name": "python",
   "nbconvert_exporter": "python",
   "pygments_lexer": "ipython3",
   "version": "3.11.1 (v3.11.1:a7a450f84a, Dec  6 2022, 15:24:06) [Clang 13.0.0 (clang-1300.0.29.30)]"
  },
  "vscode": {
   "interpreter": {
    "hash": "1a1af0ee75eeea9e2e1ee996c87e7a2b11a0bebd85af04bb136d915cefc0abce"
   }
  }
 },
 "nbformat": 4,
 "nbformat_minor": 5
}
